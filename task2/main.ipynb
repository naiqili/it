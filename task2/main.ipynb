{
 "cells": [
  {
   "cell_type": "markdown",
   "metadata": {},
   "source": [
    "# Prepocess\n",
    "Build the stock dictionary."
   ]
  },
  {
   "cell_type": "code",
   "execution_count": 8,
   "metadata": {},
   "outputs": [],
   "source": [
    "import numpy as np # linear algebra\n",
    "import pandas as pd # data processing, CSV file I/O (e.g. pd.read_csv)\n",
    "import matplotlib.pyplot as plt\n",
    "\n",
    "%matplotlib inline"
   ]
  },
  {
   "cell_type": "markdown",
   "metadata": {},
   "source": [
    "# Main function for submissiob"
   ]
  },
  {
   "cell_type": "code",
   "execution_count": 18,
   "metadata": {},
   "outputs": [],
   "source": [
    "#!/usr/bin/env python3\n",
    "# -*- coding: utf-8 -*-\n",
    "\n",
    "import numpy as np\n",
    "import pandas as pd\n",
    "import pickle\n",
    "\n",
    "pd.set_option('display.max_colwidth',50000)\n",
    "\n",
    "with open('s50.pkl', 'rb') as f:\n",
    "    (stock_to_id, id_to_stock) = pickle.load(f)\n",
    "\n",
    "m = 51 # num of stocks we use\n",
    "max_n = 6000\n",
    "\n",
    "data_mat = np.ones((m, max_n))*-1\n",
    "\n",
    "_step = 0\n",
    "step = 100\n",
    "B = []\n",
    "stock_state = np.zeros(m, dtype=int)\n",
    "\n",
    "time_dict = {}\n",
    "def time_to_id(time):    \n",
    "    global time_dict\n",
    "    if time not in time_dict.keys():\n",
    "        time_dict[time] = len(time_dict.keys())\n",
    "    return time_dict[time]\n",
    "\n",
    "def build_mat(ss, history_stock_data):\n",
    "    global data_mat\n",
    "    '''returns a m x s data matrix'''\n",
    "    df = history_stock_data\n",
    "    for ind, row in df.iterrows():\n",
    "        s = row['Stock Code']\n",
    "        if s not in stock_to_id.keys():\n",
    "            continue\n",
    "        t = str(row['Time'])\n",
    "        p = row['Opening Price']\n",
    "        s_id = stock_to_id[s]\n",
    "        t_id = time_to_id(t)\n",
    "        if s_id < m and t_id < max_n:\n",
    "            data_mat[s_id, t_id] = p\n",
    "\n",
    "def predict_next_x(P, index, w=5):\n",
    "    t = index-1\n",
    "    x = np.zeros(P.shape[1]) # x_t+1\n",
    "    if index < w:\n",
    "        w = index\n",
    "    for k in range(m):\n",
    "        cnt = 0\n",
    "        for i in range(w):\n",
    "            if P[t-i, k] > 0:\n",
    "                x[k] += (P[t-i, k]/P[t, k])  # formula(1)\n",
    "                cnt += 1\n",
    "        if cnt > 0:\n",
    "            x[k] /= cnt\n",
    "    return x\n",
    "\n",
    "def predict_next_b(B, P, mask, index, epsilon, w=5):\n",
    "    t = index-1\n",
    "    b_t = B[-1]\n",
    "    x_t1 = predict_next_x(P, index, w)\n",
    "    x_mean = np.mean(x_t1)\n",
    "    #print(x_t1, x_mean)\n",
    "    lam = max(0.0, (epsilon-np.dot(b_t,x_t1))/(np.linalg.norm(x_t1-x_mean)**2))\n",
    "    lam = min(100000, lam)\n",
    "    #print(lam)\n",
    "    #print(x_t1 - x_mean)\n",
    "    b_t1 = b_t + lam * (x_t1 - x_mean)\n",
    "    res = simplex_proj(b_t1)*mask \n",
    "    res *= 1/sum(res)\n",
    "    return res #normalization\n",
    "\n",
    "def simplex_proj(y):\n",
    "    \"\"\" Projection of y onto simplex. \"\"\"\n",
    "    m = len(y)\n",
    "    bget = False\n",
    "\n",
    "    s = sorted(y, reverse=True)\n",
    "    tmpsum = 0.\n",
    "\n",
    "    for ii in range(m-1):\n",
    "        tmpsum = tmpsum + s[ii]\n",
    "        tmax = (tmpsum - 1) / (ii + 1);\n",
    "        if tmax >= s[ii+1]:\n",
    "            bget = True\n",
    "            break\n",
    "\n",
    "    if not bget:\n",
    "        tmax = (tmpsum + s[m-1] -1)/m\n",
    "        \n",
    "    return np.maximum(y-tmax,0.)\n",
    "\n",
    "def update_state(money, mask, pv, bv):\n",
    "    global stock_state\n",
    "    #print(stock_state)\n",
    "    old_state = stock_state\n",
    "    all_money = money \n",
    "    for k in range(m):\n",
    "        if pv[k] > 0:\n",
    "            all_money += pv[k] * stock_state[k]\n",
    "    all_money = all_money*0.95\n",
    "    new_state = np.zeros(m, dtype=int)\n",
    "    for i in range(m):\n",
    "        if pv[i] > 0:\n",
    "            new_state[i] = int(all_money * bv[i] / pv[i])\n",
    "    buy_code, buy_num, sell_code, sell_num = [], [], [], []\n",
    "    for i in range(m):\n",
    "        if i not in id_to_stock.keys():\n",
    "            continue\n",
    "        if new_state[i] < old_state[i] and mask[i] == 1:\n",
    "            sell_code.append(id_to_stock[i])\n",
    "            sell_num.append(old_state[i] - new_state[i])\n",
    "        if new_state[i] > old_state[i] and mask[i] == 1:\n",
    "            buy_code.append(id_to_stock[i])\n",
    "            buy_num.append(new_state[i] - old_state[i])\n",
    "    stock_state = new_state\n",
    "    #print(buy_code)\n",
    "    return sell_code, sell_num, buy_code, buy_num\n",
    "\n",
    "def invest(data_mat, n, money, mask, w=1, epsilon=1.00001):\n",
    "    global B\n",
    "    \n",
    "    P = data_mat\n",
    "    '''\n",
    "    X = np.ones_like(P)\n",
    "    for i in range(m):\n",
    "        for j in range(1, n):\n",
    "            X[i, j] = P[i, j] / P[i, j-1]\n",
    "    '''\n",
    "    P = P.transpose()\n",
    "    #print(P)\n",
    "            \n",
    "    if n == 0:\n",
    "        B.append(np.array([1/m for i in range(m)]))\n",
    "    else:\n",
    "        b = predict_next_b(B, P, mask, n, epsilon, w)\n",
    "        B.append(b)\n",
    "    #print('B:', B[-1])\n",
    "    sell_code, sell_num, buy_code, buy_num = update_state(money, mask, P[n], B[-1])\n",
    "    return sell_code, sell_num, buy_code, buy_num\n",
    "\n",
    "def get_avail(hist, tt):\n",
    "    mask = np.zeros(m)\n",
    "    for ind, row in hist.iterrows():\n",
    "        s = row['Stock Code']\n",
    "        t = row['Time']\n",
    "        p = row['Opening Price']\n",
    "        if s not in stock_to_id.keys():\n",
    "            continue\n",
    "        s_id = stock_to_id[s]\n",
    "        if tt == t:\n",
    "            mask[s_id] = 1\n",
    "    return mask\n",
    "    \n",
    "def model(s, money, history_stock_data, investment_data, w=5, epsilon=1.000000001):\n",
    "    #path='/var/www/html/information_theory/feima/test_data.csv'\n",
    "    global _step\n",
    "        \n",
    "    \n",
    "    ss = str(s)\n",
    "    history_stock_data = history_stock_data[-w*520:]\n",
    "    history_stock_data = history_stock_data.loc[history_stock_data['Time'] == s]\n",
    "    build_mat(ss, history_stock_data)\n",
    "    \n",
    "    if _step > 0:\n",
    "        _step -= 1\n",
    "        add_data=pd.DataFrame(columns=['Time','Stocks you sell','Corresponding number of stocks you sell',\n",
    "        'Stocks you buy','Corresponding number of stocks you buy']) \n",
    "        add_data=add_data.append({'Time': s}, ignore_index=True)\n",
    "        return add_data\n",
    "    \n",
    "    _step = step-1\n",
    "    mask = get_avail(history_stock_data, s)\n",
    "    sell_code, sell_num, buy_code, buy_num = invest(data_mat, time_to_id(ss), money, mask, w=w, epsilon=epsilon)    \n",
    "    \n",
    "    add_data=pd.DataFrame(columns=['Time','Stocks you sell','Corresponding number of stocks you sell',\n",
    "                                   'Stocks you buy','Corresponding number of stocks you buy']) \n",
    "                                  \n",
    "    if len(sell_code) > 0 and len(buy_code) > 0:\n",
    "        s1 = ', '.join([\"%d\"%(x) for x in sell_code])\n",
    "        s2 = ', '.join([\"%d\"%(x) for x in sell_num])\n",
    "        s3 = ', '.join([\"%d\"%(x) for x in buy_code])\n",
    "        s4 = ', '.join([\"%d\"%(x) for x in buy_num])\n",
    "        add_data=add_data.append({'Time': s,'Stocks you sell':s1,'Corresponding number of stocks you sell':s2,\n",
    "                                  'Stocks you buy':s3,'Corresponding number of stocks you buy':s4}, ignore_index=True)    \n",
    "    elif len(sell_code) > 0:\n",
    "        s1 = ', '.join([\"%d\"%(x) for x in sell_code])\n",
    "        s2 = ', '.join([\"%d\"%(x) for x in sell_num])\n",
    "        add_data=add_data.append({'Time': s,'Stocks you sell':s1,'Corresponding number of stocks you sell':s2}, ignore_index=True)    \n",
    "    elif len(buy_code) > 0:\n",
    "        s1 = ', '.join([\"%d\"%(x) for x in buy_code])\n",
    "        s2 = ', '.join([\"%d\"%(x) for x in buy_num])\n",
    "        add_data=add_data.append({'Time': s,'Stocks you buy':s1,'Corresponding number of stocks you buy':s2}, ignore_index=True)    \n",
    "    else:\n",
    "        add_data=add_data.append({'Time': s}, ignore_index=True)\n",
    "\n",
    "    return add_data"
   ]
  },
  {
   "cell_type": "code",
   "execution_count": 19,
   "metadata": {},
   "outputs": [],
   "source": [
    "def test(w, epsilon):\n",
    "    file = pd.read_csv('./test.csv')\n",
    "    df = pd.DataFrame(file)\n",
    "    #print(df['Time'].unique())\n",
    "    init_c=c=100000\n",
    "    for s in df['Time'].unique():    \n",
    "        df_i = df.loc[df['Time'] == s]\n",
    "\n",
    "        cc=c\n",
    "        for k in range(len(stock_state)):\n",
    "            if k not in id_to_stock.keys():\n",
    "                continue\n",
    "            #print(float(df.loc[(df['Time']==s) & (df['Stock Code']==int(id_to_stock[k]))]['Opening Price'].values[0]))\n",
    "            if len(df_i.loc[df_i['Stock Code']==int(id_to_stock[k])]['Opening Price'].values)>0:\n",
    "                cc+=float(df_i.loc[df_i['Stock Code']==int(id_to_stock[k])]['Opening Price'].values[0])*stock_state[k]\n",
    "\n",
    "        #print(s, c, cc)\n",
    "        #print(df_i)\n",
    "        res = model(s, c, df_i, _, w, epsilon)\n",
    "        #print(res)\n",
    "        #print((res.at[0, 'Stocks you buy']))\n",
    "        if not pd.isnull(res.at[0, 'Stocks you sell']):\n",
    "            sell_s = res.at[0, 'Stocks you sell'].split(', ')\n",
    "            sell_n = res.at[0, 'Corresponding number of stocks you sell'].split(', ')\n",
    "            for k in range(len(sell_s)):\n",
    "                c += float(df_i.loc[df_i['Stock Code']==int(sell_s[k])]['Opening Price'].values[0]*int(sell_n[k]))\n",
    "\n",
    "        if not pd.isnull(res.at[0, 'Stocks you buy']):\n",
    "            buy_s = res.at[0, 'Stocks you buy'].split(', ')\n",
    "            buy_n = res.at[0, 'Corresponding number of stocks you buy'].split(', ')\n",
    "            for k in range(len(buy_s)):\n",
    "                #print(df.loc[(df['Time']==s) & (df['Stock Code']==int(buy_s[k]))]['Opening Price'].values[0])\n",
    "                c -= float(df_i.loc[df_i['Stock Code']==int(buy_s[k])]['Opening Price'].values[0]*int(buy_n[k]))\n",
    "    rate=1.0*cc/init_c\n",
    "    return rate"
   ]
  },
  {
   "cell_type": "markdown",
   "metadata": {},
   "source": [
    "## step = 10, 50 stocks"
   ]
  },
  {
   "cell_type": "code",
   "execution_count": 20,
   "metadata": {},
   "outputs": [
    {
     "name": "stdout",
     "output_type": "stream",
     "text": [
      "5 1.01 1.0406032999999997\n",
      "5 1.001 2.0306417\n",
      "5 1.0001 2.9672229999999993\n",
      "5 1.00001 3.8499597\n",
      "5 1.000001 4.687457299999999\n",
      "8 1.01 5.482576900000001\n",
      "8 1.001 6.2450196\n",
      "8 1.0001 6.967723200000003\n",
      "8 1.00001 7.6484421000000005\n",
      "8 1.000001 8.292370600000002\n",
      "10 1.01 8.904665499999998\n",
      "10 1.001 9.484528700000002\n",
      "10 1.0001 10.045557599999999\n",
      "10 1.00001 10.573190599999998\n",
      "10 1.000001 11.070674600000002\n",
      "20 1.01 11.542750799999999\n",
      "20 1.001 11.9906545\n",
      "20 1.0001 12.424808800000001\n",
      "20 1.00001 12.833709400000002\n",
      "20 1.000001 13.217818299999998\n",
      "50 1.01 13.579266600000004\n",
      "50 1.001 13.920168000000002\n",
      "50 1.0001 14.2453294\n",
      "50 1.00001 14.5644088\n",
      "50 1.000001 14.864231700000003\n"
     ]
    }
   ],
   "source": [
    "test_res = []\n",
    "for w in [5, 8, 10, 20, 50]:\n",
    "    for ep in [1.01, 1.001, 1.0001, 1.00001, 1.000001]:\n",
    "        r = test(w, ep)\n",
    "        print(w, ep, r)\n",
    "        test_res.append((w, ep, r))"
   ]
  },
  {
   "cell_type": "code",
   "execution_count": 4,
   "metadata": {},
   "outputs": [
    {
     "name": "stdout",
     "output_type": "stream",
     "text": [
      "50 1.0000001 21.429387899999995\n",
      "50 1.00000001 22.0505974\n",
      "50 1.000000001 22.657582599999998\n",
      "100 1.0000001 23.252854099999997\n",
      "100 1.00000001 23.82293019999999\n",
      "100 1.000000001 24.466115\n",
      "200 1.0000001 25.022308300000002\n",
      "200 1.00000001 25.523173\n",
      "200 1.000000001 26.013277399999996\n",
      "500 1.0000001 26.502184300000003\n",
      "500 1.00000001 27.270637400000016\n",
      "500 1.000000001 27.4801436\n",
      "1000 1.0000001 27.7907473\n",
      "1000 1.00000001 28.143359\n",
      "1000 1.000000001 28.523181400000006\n",
      "2000 1.0000001 29.604492400000005\n",
      "2000 1.00000001 29.743420799999996\n",
      "2000 1.000000001 29.994816800000002\n"
     ]
    }
   ],
   "source": [
    "for w in [50, 100, 200, 500, 1000, 2000]:\n",
    "    for ep in [1.0000001, 1.00000001, 1.000000001]:\n",
    "        r = test(w, ep)\n",
    "        print(w, ep, r)\n",
    "        test_res.append((w, ep, r))"
   ]
  },
  {
   "cell_type": "code",
   "execution_count": 10,
   "metadata": {},
   "outputs": [
    {
     "name": "stdout",
     "output_type": "stream",
     "text": [
      "5000 1.0000001 30.293331800000008\n",
      "10000 1.0000001 30.6239408\n",
      "15000 1.0000001 31.706982200000002\n"
     ]
    }
   ],
   "source": [
    "for w in [5000, 10000, 15000]:\n",
    "    for ep in [1.0000001]:\n",
    "        r = test(w, ep)\n",
    "        print(w, ep, r)\n",
    "        test_res.append((w, ep, r))"
   ]
  },
  {
   "cell_type": "code",
   "execution_count": null,
   "metadata": {},
   "outputs": [],
   "source": []
  },
  {
   "cell_type": "code",
   "execution_count": null,
   "metadata": {},
   "outputs": [],
   "source": []
  },
  {
   "cell_type": "markdown",
   "metadata": {},
   "source": [
    "## step = 500, 50 stocks"
   ]
  },
  {
   "cell_type": "code",
   "execution_count": 11,
   "metadata": {},
   "outputs": [
    {
     "name": "stdout",
     "output_type": "stream",
     "text": [
      "31.7551015\n"
     ]
    }
   ],
   "source": [
    "step = 500\n",
    "print(test(1000, 1.000000001))"
   ]
  },
  {
   "cell_type": "markdown",
   "metadata": {},
   "source": [
    "# Demonstration"
   ]
  },
  {
   "cell_type": "code",
   "execution_count": 9,
   "metadata": {},
   "outputs": [
    {
     "data": {
      "image/png": "[encoded data removed]",
      "text/plain": [
       "<Figure size 432x288 with 1 Axes>"
      ]
     },
     "metadata": {
      "needs_background": "light"
     },
     "output_type": "display_data"
    }
   ],
   "source": [
    "x, y = [], []\n",
    "for (w, ep, r) in test_res:\n",
    "    if ep == 1.0000001:\n",
    "        x.append(w)\n",
    "        y.append(r)\n",
    "        \n",
    "plt.title('epsilon = %f' % ep)\n",
    "plt.plot(x, y, 'bo')\n",
    "plt.show()"
   ]
  },
  {
   "cell_type": "code",
   "execution_count": null,
   "metadata": {},
   "outputs": [],
   "source": []
  }
 ],
 "metadata": {
  "kernelspec": {
   "display_name": "Python [conda env:tensorflow]",
   "language": "python",
   "name": "conda-env-tensorflow-py"
  },
  "language_info": {
   "codemirror_mode": {
    "name": "ipython",
    "version": 3
   },
   "file_extension": ".py",
   "mimetype": "text/x-python",
   "name": "python",
   "nbconvert_exporter": "python",
   "pygments_lexer": "ipython3",
   "version": "3.5.6"
  }
 },
 "nbformat": 4,
 "nbformat_minor": 2
}
